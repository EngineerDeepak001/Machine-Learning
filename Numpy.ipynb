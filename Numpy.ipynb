{
 "cells": [
  {
   "cell_type": "code",
   "execution_count": 1,
   "id": "b4f82e47-9e3b-4120-b601-4df726bac1e2",
   "metadata": {},
   "outputs": [
    {
     "name": "stdout",
     "output_type": "stream",
     "text": [
      "[10.         11.11111111 12.22222222 13.33333333 14.44444444 15.55555556\n",
      " 16.66666667 17.77777778 18.88888889 20.        ]\n"
     ]
    }
   ],
   "source": [
    "# Creating Numpy / n-d arrays\n",
    "# import sys\n",
    "# sys.path.append(\"d:/Desktop/Machine learning\")  # ya jahan numpy rakha ho\n",
    "\n",
    "import numpy as np\n",
    "\n",
    "arr1 = np.array([1,2,3,4,5])\n",
    "# print(arr1)\n",
    "\n",
    "# print(type(arr1))  #<class 'numpy.ndarray'>\n",
    "\n",
    "# arr2 = np.array([[1,2,3],[4,5,6]])\n",
    "# print(arr2)\n",
    "\n",
    "# arr3 = np.zeros((2,3))\n",
    "# print(arr3)\n",
    "\n",
    "\n",
    "# arr4 = np.ones((3,3))\n",
    "# print(arr4)\n",
    "\n",
    "\n",
    "# arr5 = np.identity(5)  //1s curve line\n",
    "# print(arr5)\n",
    "\n",
    "# arr6 = np.arange(10)  //0 to 9 \n",
    "# print(arr6)\n",
    "\n",
    "# arr6 = np.arange(5,16,2)  \n",
    "# print(arr6)\n",
    "\n",
    "# arr6 = np.linspace(10,20,10)  \n",
    "# print(arr6)\n",
    "\n",
    "arr6 = np.linspace(10,20,10)  \n",
    "print(arr6)\n",
    "\n",
    "\n",
    "\n",
    "\n",
    "\n",
    "\n"
   ]
  },
  {
   "cell_type": "code",
   "execution_count": 2,
   "id": "45e35b66-254c-43e2-b406-7d17bd0d784a",
   "metadata": {},
   "outputs": [],
   "source": [
    "'''\n",
    "Properties and Attributes of Numpy \n",
    "1. Shape\n",
    "2. nDim\n",
    "3. Size\n",
    "4. Itemsize\n",
    "5. Dtype \n",
    "6. astype()\n",
    "'''\n",
    "# import sys\n",
    "# sys.path.append(\"d:/Desktop/Machine learning\")  # ya jahan numpy rakha ho\n",
    "\n",
    "import numpy as np\n",
    "\n",
    "arr2 = np.array([[[1,2],[3,4]],[[5,6],[7,8]]])\n",
    "# print(arr2)\n",
    "# print()\n",
    "# print(arr2.shape)\n",
    "\n",
    "# print(arr2.ndim)\n",
    "\n"
   ]
  },
  {
   "cell_type": "code",
   "execution_count": 3,
   "id": "72e7ead0-342a-481d-b666-2fa28a2c2d73",
   "metadata": {},
   "outputs": [
    {
     "data": {
      "text/plain": [
       "8"
      ]
     },
     "execution_count": 3,
     "metadata": {},
     "output_type": "execute_result"
    }
   ],
   "source": [
    "arr2.size\n"
   ]
  },
  {
   "cell_type": "code",
   "execution_count": 4,
   "id": "80220432-902e-4b17-8da0-efbd7d1ade94",
   "metadata": {},
   "outputs": [
    {
     "data": {
      "text/plain": [
       "4"
      ]
     },
     "execution_count": 4,
     "metadata": {},
     "output_type": "execute_result"
    }
   ],
   "source": [
    "arr2.itemsize"
   ]
  },
  {
   "cell_type": "code",
   "execution_count": 5,
   "id": "4a40c0f8-eb77-4b9b-87df-3af149e10e8d",
   "metadata": {},
   "outputs": [
    {
     "data": {
      "text/plain": [
       "dtype('int32')"
      ]
     },
     "execution_count": 5,
     "metadata": {},
     "output_type": "execute_result"
    }
   ],
   "source": [
    "arr2.dtype"
   ]
  },
  {
   "cell_type": "markdown",
   "id": "d9efd852-b964-48fb-ac1f-8ac4035648d0",
   "metadata": {},
   "source": []
  },
  {
   "cell_type": "markdown",
   "id": "f6445eb3-fbbf-46e9-970b-6e9088d1980f",
   "metadata": {},
   "source": [
    "\n",
    "# Numpy Array vs Python Lists"
   ]
  },
  {
   "cell_type": "markdown",
   "id": "dd73d8d0-52f4-48ac-a4b9-507114ba9e9c",
   "metadata": {},
   "source": [
    "## 1. Faster\n",
    "## 2. Convenient\n",
    "## 3. Less Memory"
   ]
  },
  {
   "cell_type": "code",
   "execution_count": 6,
   "id": "7f2d551c-3726-4131-adbe-a9caeb31c34d",
   "metadata": {},
   "outputs": [],
   "source": [
    "lista = range(100)\n",
    "arr11 = np.arange(100)"
   ]
  },
  {
   "cell_type": "code",
   "execution_count": 7,
   "id": "c5fd40a7-7270-47f2-8006-fef6c038bb62",
   "metadata": {},
   "outputs": [],
   "source": [
    "import sys\n"
   ]
  },
  {
   "cell_type": "code",
   "execution_count": 8,
   "id": "b1ed7fdf-af7a-46a8-ab60-f1f7e3f0c354",
   "metadata": {},
   "outputs": [
    {
     "name": "stdout",
     "output_type": "stream",
     "text": [
      "2800\n"
     ]
    }
   ],
   "source": [
    "print(sys.getsizeof(87)*len(lista))\n"
   ]
  },
  {
   "cell_type": "code",
   "execution_count": 9,
   "id": "7ecb0d37-bbf5-4d05-aa6b-7cc90fb887e2",
   "metadata": {},
   "outputs": [
    {
     "name": "stdout",
     "output_type": "stream",
     "text": [
      "400\n"
     ]
    }
   ],
   "source": [
    "print(arr11.itemsize*arr11.size)"
   ]
  },
  {
   "cell_type": "code",
   "execution_count": 10,
   "id": "9195a7a1-47da-496a-b3da-c4b11969e506",
   "metadata": {},
   "outputs": [],
   "source": [
    "import time\n"
   ]
  },
  {
   "cell_type": "code",
   "execution_count": 11,
   "id": "b861ad2b-86dd-4101-9777-e01f0f8f1a7a",
   "metadata": {},
   "outputs": [
    {
     "name": "stdout",
     "output_type": "stream",
     "text": [
      "0.012860536575317383\n"
     ]
    }
   ],
   "source": [
    "x = range(100000)\n",
    "y = range(100000,200000)\n",
    "\n",
    "start_time = time.time()\n",
    "\n",
    "c = [x+y for x,y in zip(x,y)]\n",
    "\n",
    "print(time.time()-start_time)"
   ]
  },
  {
   "cell_type": "markdown",
   "id": "22788662-3718-43bb-bbf1-ebb97927c99a",
   "metadata": {},
   "source": [
    "# Indexing, Slicing and Iteration"
   ]
  },
  {
   "cell_type": "code",
   "execution_count": 12,
   "id": "16663dbe-328d-48cf-bb3d-d97a017696af",
   "metadata": {},
   "outputs": [
    {
     "data": {
      "text/plain": [
       "array([[ 0,  1,  2,  3,  4],\n",
       "       [ 5,  6,  7,  8,  9],\n",
       "       [10, 11, 12, 13, 14],\n",
       "       [15, 16, 17, 18, 19],\n",
       "       [20, 21, 22, 23, 24],\n",
       "       [25, 26, 27, 28, 29],\n",
       "       [30, 31, 32, 33, 34],\n",
       "       [35, 36, 37, 38, 39],\n",
       "       [40, 41, 42, 43, 44],\n",
       "       [45, 46, 47, 48, 49]])"
      ]
     },
     "execution_count": 12,
     "metadata": {},
     "output_type": "execute_result"
    }
   ],
   "source": [
    "arr12 = np.arange(50).reshape(10,5)\n",
    "arr12"
   ]
  },
  {
   "cell_type": "code",
   "execution_count": 16,
   "id": "6d2a3871-c180-493b-a394-8e54cc65d8e5",
   "metadata": {},
   "outputs": [
    {
     "data": {
      "text/plain": [
       "array([[11, 12],\n",
       "       [16, 17]])"
      ]
     },
     "execution_count": 16,
     "metadata": {},
     "output_type": "execute_result"
    }
   ],
   "source": [
    "arr12[2:4,1:3]"
   ]
  },
  {
   "cell_type": "code",
   "execution_count": null,
   "id": "f7452a85-7c18-4f80-8f7a-de841a59aa9f",
   "metadata": {},
   "outputs": [],
   "source": []
  },
  {
   "cell_type": "code",
   "execution_count": null,
   "id": "09ecb9ec-2431-4b6c-a487-fa1438a11816",
   "metadata": {},
   "outputs": [],
   "source": []
  },
  {
   "cell_type": "code",
   "execution_count": null,
   "id": "ebd0233e-7816-4464-8984-7e832bfef1f3",
   "metadata": {},
   "outputs": [],
   "source": []
  },
  {
   "cell_type": "code",
   "execution_count": null,
   "id": "d5d55f0c-7885-497a-a5d0-4a427d8b4e8b",
   "metadata": {},
   "outputs": [],
   "source": []
  }
 ],
 "metadata": {
  "kernelspec": {
   "display_name": "Python 3 (ipykernel)",
   "language": "python",
   "name": "python3"
  },
  "language_info": {
   "codemirror_mode": {
    "name": "ipython",
    "version": 3
   },
   "file_extension": ".py",
   "mimetype": "text/x-python",
   "name": "python",
   "nbconvert_exporter": "python",
   "pygments_lexer": "ipython3",
   "version": "3.12.7"
  }
 },
 "nbformat": 4,
 "nbformat_minor": 5
}
