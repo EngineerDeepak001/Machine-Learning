{
 "cells": [
  {
   "cell_type": "code",
   "execution_count": 7,
   "id": "2207e775-c56a-43cf-85ba-f98cba99d4a0",
   "metadata": {},
   "outputs": [],
   "source": [
    "import pandas as pd\n",
    "import requests\n",
    "from bs4 import BeautifulSoup #use Bearutifulsoup is when wrabsraping is advance feature"
   ]
  },
  {
   "cell_type": "code",
   "execution_count": 36,
   "id": "8856eace-016d-4391-8889-bc0fe765c655",
   "metadata": {},
   "outputs": [],
   "source": [
    "# headers = {'User-Agent':'Mozilla/5.0 (Windows NT 6.3; Win 64 ; x64) Apple WeKit /537.36(KHTML , like Gecko) Chrome/80.0.3987.162 Safari/537.36'} -requests.get('url',headers=headers).text\n",
    "webpage = requests.get('https://www.ambitionbox.com/list-of-companies?page=1').text"
   ]
  },
  {
   "cell_type": "code",
   "execution_count": 37,
   "id": "9d894c1a-0fdf-4503-98c7-f318811ea9d4",
   "metadata": {},
   "outputs": [],
   "source": [
    "soup = BeautifulSoup(webpage,'lxml')"
   ]
  },
  {
   "cell_type": "code",
   "execution_count": 38,
   "id": "cd78cc6b-1fcf-480b-a636-d2795eb0bbd7",
   "metadata": {},
   "outputs": [
    {
     "data": {
      "text/plain": [
       "'Access Denied'"
      ]
     },
     "execution_count": 38,
     "metadata": {},
     "output_type": "execute_result"
    }
   ],
   "source": [
    "# print(soup.prettify())\n",
    "soup.find_all('h1')[0].text"
   ]
  },
  {
   "cell_type": "code",
   "execution_count": 41,
   "id": "d726fbba-c38d-4025-8755-0b871864c751",
   "metadata": {},
   "outputs": [],
   "source": [
    "for i in soup.find_all('h2'):\n",
    "    print(i.text.strip()) #strip = remove servers js \\n \\t (not gap in )"
   ]
  },
  {
   "cell_type": "code",
   "execution_count": null,
   "id": "7b264204-9ec0-4211-ad70-f49fa6234ebc",
   "metadata": {},
   "outputs": [],
   "source": []
  }
 ],
 "metadata": {
  "kernelspec": {
   "display_name": "Python 3 (ipykernel)",
   "language": "python",
   "name": "python3"
  },
  "language_info": {
   "codemirror_mode": {
    "name": "ipython",
    "version": 3
   },
   "file_extension": ".py",
   "mimetype": "text/x-python",
   "name": "python",
   "nbconvert_exporter": "python",
   "pygments_lexer": "ipython3",
   "version": "3.12.7"
  }
 },
 "nbformat": 4,
 "nbformat_minor": 5
}
